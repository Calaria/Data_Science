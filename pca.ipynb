{
 "cells": [
  {
   "cell_type": "code",
   "execution_count": 2,
   "metadata": {},
   "outputs": [],
   "source": [
    "import numpy as np\n",
    "from tqdm import tqdm  # type: ignore\n",
    "\n",
    "\n",
    "def de_mean(data: np.ndarray) -> np.ndarray:\n",
    "    mean = np.mean(data, axis=0)\n",
    "    return data - mean\n",
    "\n",
    "\n",
    "def direction(w: np.ndarray) -> np.ndarray:\n",
    "    mag = np.linalg.norm(w)\n",
    "    return w / mag\n",
    "\n",
    "\n",
    "def directional_variance(data: np.ndarray, w: np.ndarray) -> float:\n",
    "    w_dir = direction(w)\n",
    "    return sum(np.dot(x, w_dir) ** 2 for x in data)\n",
    "\n",
    "\n",
    "def directional_variance_gradient(data: np.ndarray, w: np.ndarray) -> np.ndarray:\n",
    "    w_dir = direction(w)\n",
    "    ans= np.array(\n",
    "        [sum(2 * np.dot(x, w_dir) * x[i] for x in data) for i in range(len(w))]\n",
    "    )\n",
    "    return ans\n",
    "\n",
    "\n",
    "def gradient_step(v: np.ndarray, direction: np.ndarray, step_size: float) -> np.ndarray:\n",
    "    return v + step_size * direction\n"
   ]
  },
  {
   "cell_type": "code",
   "execution_count": 45,
   "metadata": {},
   "outputs": [],
   "source": [
    "\n",
    "def first_principal_component(\n",
    "    data: np.ndarray, n: int = 1000, step_size: float = 0.001\n",
    ") -> np.ndarray:\n",
    "    guess = np.random.random(data.shape[1])\n",
    "    with tqdm(total=n) as t:\n",
    "        for _ in range(n):  # 这个循环确保了多次迭代\n",
    "            dv = directional_variance(data, guess)\n",
    "            gradient = directional_variance_gradient(data, guess)\n",
    "            guess = gradient_step(guess, gradient, step_size)\n",
    "            t.update(1)\n",
    "            t.set_description(f\"directional variance: {dv:.3f}\")\n",
    "    return direction(guess)\n"
   ]
  },
  {
   "cell_type": "code",
   "execution_count": 39,
   "metadata": {},
   "outputs": [],
   "source": [
    "\n",
    "\n",
    "def project(v: np.ndarray, w: np.ndarray) -> np.ndarray:\n",
    "    w_dir = direction(w)\n",
    "    projection_length = np.dot(v, w_dir)\n",
    "    return projection_length * w_dir\n",
    "\n",
    "\n",
    "def remove_projection_from_vector(v: np.ndarray, w: np.ndarray) -> np.ndarray:\n",
    "    return v - project(v, w)\n",
    "\n",
    "\n",
    "def remove_projection(data: np.ndarray, w: np.ndarray) -> np.ndarray:\n",
    "    return np.array([remove_projection_from_vector(v, w) for v in data])\n",
    "\n",
    "\n",
    "def principal_component_analysis(data: np.ndarray, num_components: int) -> np.ndarray:\n",
    "    components = []\n",
    "    for _ in range(num_components):\n",
    "        component = first_principal_component(data, n=1000, step_size=0.01)\n",
    "        components.append(component)\n",
    "        print('Test',directional_variance(data, component))\n",
    "        data = remove_projection(data, np.array(component))\n",
    "    return np.array(components)\n",
    "\n",
    "\n",
    "def transform_vector(v: np.ndarray, components: np.ndarray) -> np.ndarray:\n",
    "    return np.array([np.dot(v, w) for w in components])\n",
    "\n",
    "\n",
    "def transform(data: np.ndarray, components: np.ndarray) -> np.ndarray:\n",
    "    return np.array([transform_vector(v, components) for v in data])\n",
    "\n",
    "\n"
   ]
  },
  {
   "cell_type": "code",
   "execution_count": 12,
   "metadata": {},
   "outputs": [
    {
     "data": {
      "text/plain": [
       "'\\ndata = np.array([[1, 2, 3, 4], [4, 5, 6, 7], [7, 8, 9, 10]])\\ncomponents = principal_component_analysis(data, data.shape[1] - 1)\\nans = transform(data, components)\\nfor v in ans:\\n    print(*[f\"{i:8.3f}\" for i in v], sep=\", \")\\n'"
      ]
     },
     "execution_count": 12,
     "metadata": {},
     "output_type": "execute_result"
    }
   ],
   "source": [
    "\n",
    "\"\"\"\n",
    "data = np.array([[1, 2, 3, 4], [4, 5, 6, 7], [7, 8, 9, 10]])\n",
    "components = principal_component_analysis(data, data.shape[1] - 1)\n",
    "ans = transform(data, components)\n",
    "for v in ans:\n",
    "    print(*[f\"{i:8.3f}\" for i in v], sep=\", \")\n",
    "\"\"\""
   ]
  },
  {
   "cell_type": "code",
   "execution_count": 50,
   "metadata": {},
   "outputs": [
    {
     "name": "stdout",
     "output_type": "stream",
     "text": [
      "[[-2. -2. -2.  0.]\n",
      " [-1. -1. -1.  0.]\n",
      " [ 0.  0.  0.  0.]\n",
      " [ 1.  1.  1.  0.]\n",
      " [ 2.  2.  2.  0.]]\n"
     ]
    },
    {
     "name": "stderr",
     "output_type": "stream",
     "text": [
      "directional variance: 30.000: 100%|██████████| 1000/1000 [00:01<00:00, 750.15it/s]\n"
     ]
    },
    {
     "name": "stdout",
     "output_type": "stream",
     "text": [
      "Test 29.999938684675598\n"
     ]
    },
    {
     "name": "stderr",
     "output_type": "stream",
     "text": [
      "directional variance: 0.000: 100%|██████████| 1000/1000 [00:01<00:00, 740.29it/s]"
     ]
    },
    {
     "name": "stdout",
     "output_type": "stream",
     "text": [
      "Test 1.4150874739938597e-05\n",
      "[[0.57661802 0.57756733 0.57786369 0.00109404]\n",
      " [0.16769666 0.21044933 0.92613041 0.26433193]]\n",
      "  -3.464,   -2.609\n",
      "  -1.732,   -1.304\n",
      "   0.000,    0.000\n",
      "   1.732,    1.304\n",
      "   3.464,    2.609\n"
     ]
    },
    {
     "name": "stderr",
     "output_type": "stream",
     "text": [
      "\n"
     ]
    }
   ],
   "source": [
    "\n",
    "X = np.array([\n",
    "    [1, 2, 3,1],\n",
    "    [2, 3, 4,1],\n",
    "    [3, 4, 5,1],\n",
    "    [4, 5, 6,1],\n",
    "    [5, 6, 7,1]\n",
    "])\n",
    "X = de_mean(X)\n",
    "print(X)\n",
    "\n",
    "components = principal_component_analysis(X, 2)\n",
    "print(components)\n",
    "ans1 = transform(X, components)\n",
    "for v in ans1:\n",
    "     print(*[f\"{i:8.3f}\" for i in v], sep=\", \")"
   ]
  },
  {
   "cell_type": "code",
   "execution_count": null,
   "metadata": {},
   "outputs": [],
   "source": []
  }
 ],
 "metadata": {
  "kernelspec": {
   "display_name": "base",
   "language": "python",
   "name": "python3"
  },
  "language_info": {
   "codemirror_mode": {
    "name": "ipython",
    "version": 3
   },
   "file_extension": ".py",
   "mimetype": "text/x-python",
   "name": "python",
   "nbconvert_exporter": "python",
   "pygments_lexer": "ipython3",
   "version": "3.11.7"
  }
 },
 "nbformat": 4,
 "nbformat_minor": 2
}
