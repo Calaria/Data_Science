{
 "cells": [
  {
   "cell_type": "code",
   "execution_count": 3,
   "metadata": {},
   "outputs": [],
   "source": [
    "from typing import List"
   ]
  },
  {
   "cell_type": "code",
   "execution_count": 4,
   "metadata": {},
   "outputs": [],
   "source": [
    "Vector=List[float]"
   ]
  },
  {
   "cell_type": "code",
   "execution_count": 5,
   "metadata": {},
   "outputs": [
    {
     "name": "stdout",
     "output_type": "stream",
     "text": [
      "[1, 0, 0, 0]\n",
      "[0, 1, 0, 0]\n",
      "[0, 0, 1, 0]\n",
      "[0, 0, 0, 1]\n"
     ]
    }
   ],
   "source": [
    "def fizz_buzz_encode(x:int)->Vector:\n",
    "    if x%15 == 0:\n",
    "        return [0,0,0,1]\n",
    "    elif x%5 == 0:\n",
    "        return [0,0,1,0]\n",
    "    elif x%3 == 0:\n",
    "        return [0,1,0,0]\n",
    "    else:\n",
    "        return [1,0,0,0]\n",
    "print(fizz_buzz_encode(2))\n",
    "print(fizz_buzz_encode(6))\n",
    "print(fizz_buzz_encode(10))\n",
    "print(fizz_buzz_encode(30))\n"
   ]
  },
  {
   "cell_type": "code",
   "execution_count": 6,
   "metadata": {},
   "outputs": [
    {
     "name": "stdout",
     "output_type": "stream",
     "text": [
      "[1, 1, 0, 0, 0, 0, 0, 0, 0, 0]\n"
     ]
    }
   ],
   "source": [
    "def binary(x: int)-> Vector:\n",
    "    binary: List[float]=[]\n",
    "    for _ in range(10):\n",
    "        binary.append(x%2)\n",
    "        x=x//2\n",
    "    \n",
    "    return binary\n",
    "print(binary(3))"
   ]
  },
  {
   "cell_type": "code",
   "execution_count": 7,
   "metadata": {},
   "outputs": [],
   "source": [
    "xs=[binary(x) for x in range(101,1024)]\n",
    "ys=[fizz_buzz_encode(x) for x in range(101,1024)]"
   ]
  },
  {
   "cell_type": "code",
   "execution_count": 8,
   "metadata": {},
   "outputs": [],
   "source": [
    "import random\n",
    "import tqdm\n",
    "NUM_HIDDEN=25\n",
    "\n",
    "network =[\n",
    "    [[random.random() for _ in range(10+1)] for _ in range(NUM_HIDDEN)],\n",
    "    [[random.random() for _ in range(NUM_HIDDEN+1)] for _ in range(4)]\n",
    "]"
   ]
  },
  {
   "cell_type": "code",
   "execution_count": null,
   "metadata": {},
   "outputs": [],
   "source": []
  },
  {
   "cell_type": "code",
   "execution_count": 14,
   "metadata": {},
   "outputs": [
    {
     "name": "stderr",
     "output_type": "stream",
     "text": [
      "  0%|          | 0/500 [00:00<?, ?it/s]"
     ]
    },
    {
     "name": "stderr",
     "output_type": "stream",
     "text": [
      "loss: 20.95: 100%|██████████| 500/500 [02:35<00:00,  3.21it/s] \n"
     ]
    }
   ],
   "source": [
    "from dl_tools import feed_forward, squared_distance, sqerror_gradient,gradient_step\n",
    "\n",
    "learning_rate=1\n",
    "\n",
    "with tqdm.trange(500) as t:\n",
    "    for epoch in t:\n",
    "        epoch_loss=0.0\n",
    "        for x,y in zip(xs,ys):\n",
    "            predicted = feed_forward(network,x)[-1]\n",
    "            epoch_loss+=squared_distance(predicted,y)\n",
    "            gradients=sqerror_gradient(network,x,y)\n",
    "            \n",
    "            network = [[gradient_step(neuron,grad,-learning_rate) \n",
    "                        for neuron,grad in zip(layer,layer_grad)]\n",
    "                       for layer,layer_grad in zip(network,gradients)]\n",
    "\n",
    "        t.set_description(f\"loss: {epoch_loss:.2f}\")\n"
   ]
  },
  {
   "cell_type": "code",
   "execution_count": 15,
   "metadata": {},
   "outputs": [],
   "source": [
    "#Test\n",
    "predicted = feed_forward(network,binary(905))[-1]"
   ]
  },
  {
   "cell_type": "code",
   "execution_count": 16,
   "metadata": {},
   "outputs": [
    {
     "name": "stdout",
     "output_type": "stream",
     "text": [
      "[0.0024672287918810713, 0.0010586430017606864, 0.9998208029819575, 7.915153481791678e-10]\n"
     ]
    }
   ],
   "source": [
    "print(predicted)"
   ]
  },
  {
   "cell_type": "code",
   "execution_count": 17,
   "metadata": {},
   "outputs": [],
   "source": [
    "def argmax(xs: list) -> int:\n",
    "    return max(range(len(xs)), key=lambda i: xs[i])\n",
    "\n",
    "assert argmax([0.1,0.7,0.2])==1"
   ]
  },
  {
   "cell_type": "code",
   "execution_count": 19,
   "metadata": {},
   "outputs": [
    {
     "name": "stdout",
     "output_type": "stream",
     "text": [
      "93 fizz buzz\n",
      "99 /100 correct\n"
     ]
    }
   ],
   "source": [
    "#FizzBuzz\n",
    "num_correct=0\n",
    "for x in range(1,101):\n",
    "    predicted=argmax(feed_forward(network,binary(x))[-1])\n",
    "    actual=argmax(fizz_buzz_encode(x))\n",
    "    labels=[\"fizz\",\"buzz\",\"fizzbuzz\",\"other\"]\n",
    "    if predicted==actual:\n",
    "        num_correct+=1\n",
    "    else:\n",
    "        print(x,labels[predicted],labels[actual])\n",
    "print(num_correct,\"/100 correct\")"
   ]
  }
 ],
 "metadata": {
  "kernelspec": {
   "display_name": "base",
   "language": "python",
   "name": "python3"
  },
  "language_info": {
   "codemirror_mode": {
    "name": "ipython",
    "version": 3
   },
   "file_extension": ".py",
   "mimetype": "text/x-python",
   "name": "python",
   "nbconvert_exporter": "python",
   "pygments_lexer": "ipython3",
   "version": "3.11.7"
  }
 },
 "nbformat": 4,
 "nbformat_minor": 2
}
