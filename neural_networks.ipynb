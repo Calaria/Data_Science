{
 "cells": [
  {
   "cell_type": "code",
   "execution_count": 76,
   "metadata": {},
   "outputs": [],
   "source": [
    "from typing import List\n",
    "import math\n",
    "Vector = List[float]\n",
    "def dot(v: Vector, w: Vector) -> float:\n",
    "    assert len(v) == len(w)\n",
    "    return sum(v_i * w_i for v_i, w_i in zip(v, w))\n",
    "\n",
    "def step_function(x:float)->float:\n",
    "    return 1 if x >= 0 else 0\n",
    "def sigmoid(t:float)->float:\n",
    "    return 1/(1+math.exp(-t))\n",
    "\n",
    "def neuron_output(weights:Vector,inputs:Vector)->float:\n",
    "    return sigmoid(dot(weights,inputs))\n",
    "\n",
    "def perceptron_output(weights:Vector,inputs:Vector)->float:\n",
    "    return step_function(dot(weights,inputs))\n",
    "\n",
    "\n",
    "def feed_forward(neural_network: List[List[Vector]],\n",
    "                 input_vector: Vector) -> List[Vector]:\n",
    "    ouputs: List[Vector] = []\n",
    "    \n",
    "    for layer in neural_network:\n",
    "        input_with_bias = input_vector + [1]\n",
    "        output = [neuron_output(neuron, input_with_bias)\n",
    "                  for neuron in layer]\n",
    "        ouputs.append(output)\n",
    "        input_vector = output\n",
    "    return ouputs\n",
    "\n",
    "xor_network = [\n",
    "    [[20.0, 20.0, -30.0], [20.0, 20.0, -10.0]],\n",
    "    [[-60.0, 60.0, -30.0]]\n",
    "]\n",
    "assert feed_forward(xor_network, [0, 0])[-1][0] < 0.01\n",
    "assert feed_forward(xor_network, [1, 0])[-1][0] > 0.99\n",
    "assert feed_forward(xor_network, [0, 1])[-1][0] > 0.99\n",
    "assert feed_forward(xor_network, [1, 1])[-1][0] < 0.01\n"
   ]
  },
  {
   "cell_type": "code",
   "execution_count": 77,
   "metadata": {},
   "outputs": [
    {
     "data": {
      "text/plain": [
       "[[[2.4142328917571065e-29, 0.0, 2.4142328917571065e-29],\n",
       "  [-2.4142328917547655e-29, -0.0, -2.4142328917547655e-29]],\n",
       " [[-4.023904162934704e-31, -8.863238740646161e-27, -8.863641131062455e-27]]]"
      ]
     },
     "execution_count": 77,
     "metadata": {},
     "output_type": "execute_result"
    }
   ],
   "source": [
    "#back propagation\n",
    "from typing import List\n",
    "Vector = List[float]\n",
    "def dot(v: Vector, w: Vector) -> float:\n",
    "    assert len(v) == len(w)\n",
    "    return sum(v_i * w_i for v_i, w_i in zip(v, w))\n",
    "def sqerror_gradient(network:List[List[Vector]],\n",
    "                     input_vector: Vector,\n",
    "                     target_vector: Vector) -> List[List[Vector]]:\n",
    "    hidden_outputs, outputs = feed_forward(network, input_vector)\n",
    "    output_deltas=[output*(1-output)*(output-target)\n",
    "                   for output, target in zip(outputs, target_vector)]\n",
    "    \n",
    "    output_grads=[[output_deltas[i] *hidden_output\n",
    "                   for hidden_output in hidden_outputs + [1]]\n",
    "                  for i ,output_neuron in enumerate(network[-1])]\n",
    "    \n",
    "    hidden_deltas=[hidden_output*(1-hidden_output)*\n",
    "                   dot(output_deltas,[n[i] for n in network[-1]])\n",
    "                   for i, hidden_output in enumerate(hidden_outputs)]\n",
    "    \n",
    "    hidden_grads=[[hidden_deltas[i]*input for input in input_vector + [1]]\n",
    "                    for i, hidden_neuron in enumerate(network[0])]\n",
    "    return [hidden_grads, output_grads]\n",
    "#Test the back propagation\n",
    "xor_network = [\n",
    "    [[20.0, 20.0, -30.0], [20.0, 20.0, -10.0]],\n",
    "    [[-60.0, 60.0, -30.0]]\n",
    "]\n",
    "sqerror_gradient(xor_network, [1, 0], [1])"
   ]
  },
  {
   "cell_type": "code",
   "execution_count": 78,
   "metadata": {},
   "outputs": [],
   "source": [
    "def gradient_step(vectors:List[Vector],gradients:List[Vector],step_size:float)->List[Vector]:\n",
    "    step=[step_size*gradient for gradient in gradients]\n",
    "    return [vector+step for vector, step in zip(vectors,step)]"
   ]
  },
  {
   "cell_type": "code",
   "execution_count": 79,
   "metadata": {},
   "outputs": [],
   "source": [
    "def get_error(network:List[List[Vector]],\n",
    "                xs:List[Vector],\n",
    "                ys:List[Vector])->float:\n",
    "        error=0.0\n",
    "        assert len(xs)==len(ys)\n",
    "        for x,y in zip(xs,ys):\n",
    "            predicted=feed_forward(network,x)[-1][0]\n",
    "            error+= (predicted-y[0])**2\n",
    "        return error"
   ]
  },
  {
   "cell_type": "code",
   "execution_count": 80,
   "metadata": {},
   "outputs": [
    {
     "data": {
      "text/plain": [
       "3.533597059709085e-26"
      ]
     },
     "execution_count": 80,
     "metadata": {},
     "output_type": "execute_result"
    }
   ],
   "source": [
    "get_error(xor_network,[[0,0],[0,1],[1,0],[1,1]],[[0],[1],[1],[0]])"
   ]
  },
  {
   "cell_type": "code",
   "execution_count": 94,
   "metadata": {},
   "outputs": [],
   "source": [
    "import random\n",
    "import tqdm\n",
    "#Training\n",
    "learning_rate=0.1\n",
    "xs=[[0,0],[0,1],[1,0],[1,1]]\n",
    "ys=[[0],[1],[1],[0]]\n",
    "network=[[ [random.random() for _ in range(2+1)],\n",
    "              [random.random() for _ in range(2+1)]],\n",
    "             [[random.random() for _ in range(2+1)]]]"
   ]
  },
  {
   "cell_type": "code",
   "execution_count": 95,
   "metadata": {},
   "outputs": [
    {
     "data": {
      "text/plain": [
       "1.2771063157711633"
      ]
     },
     "execution_count": 95,
     "metadata": {},
     "output_type": "execute_result"
    }
   ],
   "source": [
    "get_error(network,xs,ys)"
   ]
  },
  {
   "cell_type": "code",
   "execution_count": 96,
   "metadata": {},
   "outputs": [
    {
     "name": "stderr",
     "output_type": "stream",
     "text": [
      "error: 0.01: 100%|██████████| 10000/10000 [00:30<00:00, 328.87it/s]\n"
     ]
    }
   ],
   "source": [
    "\n",
    "with tqdm.trange(10000)as t:\n",
    "    for _ in range(10000):\n",
    "        for x,y in zip(xs,ys):\n",
    "            gradients=sqerror_gradient(network,x,y)\n",
    "            network=[[gradient_step(neuron,grad,-learning_rate)\n",
    "                    for neuron,grad in zip(layer,layer_grad)]\n",
    "                    for layer,layer_grad in zip(network,gradients)]\n",
    "        t.update(1)\n",
    "        t.set_description(f\"error: {get_error(network,xs,ys):.2f}\")\n",
    "\n",
    "\n",
    "        "
   ]
  },
  {
   "cell_type": "code",
   "execution_count": 97,
   "metadata": {},
   "outputs": [
    {
     "data": {
      "text/plain": [
       "0.011837266332907225"
      ]
     },
     "execution_count": 97,
     "metadata": {},
     "output_type": "execute_result"
    }
   ],
   "source": [
    "get_error(network,xs,ys)"
   ]
  },
  {
   "cell_type": "code",
   "execution_count": 98,
   "metadata": {},
   "outputs": [
    {
     "name": "stdout",
     "output_type": "stream",
     "text": [
      "[[[3.716659600083313, 3.7151985311512936, -5.688597240171938], [5.841141354190779, 5.838514807537462, -2.437853846000429]], [[-8.176106026697012, 7.528019906900595, -3.388102741245321]]]\n"
     ]
    }
   ],
   "source": [
    "print(network)"
   ]
  },
  {
   "cell_type": "code",
   "execution_count": 100,
   "metadata": {},
   "outputs": [
    {
     "name": "stdout",
     "output_type": "stream",
     "text": [
      "0.05673562347588216\n",
      "0.94781024480601\n",
      "0.9477774038262772\n",
      "0.05627935023947783\n"
     ]
    }
   ],
   "source": [
    "#Testing \n",
    "print(feed_forward(network,[0,0])[-1][0])\n",
    "print(feed_forward(network,[0,1])[-1][0])  \n",
    "print(feed_forward(network,[1,0])[-1][0])\n",
    "print(feed_forward(network,[1,1])[-1][0])"
   ]
  },
  {
   "cell_type": "code",
   "execution_count": 101,
   "metadata": {},
   "outputs": [
    {
     "data": {
      "text/plain": [
       "[[[3.716659600083313, 3.7151985311512936, -5.688597240171938],\n",
       "  [5.841141354190779, 5.838514807537462, -2.437853846000429]],\n",
       " [[-8.176106026697012, 7.528019906900595, -3.388102741245321]]]"
      ]
     },
     "execution_count": 101,
     "metadata": {},
     "output_type": "execute_result"
    }
   ],
   "source": [
    "network"
   ]
  }
 ],
 "metadata": {
  "kernelspec": {
   "display_name": "base",
   "language": "python",
   "name": "python3"
  },
  "language_info": {
   "codemirror_mode": {
    "name": "ipython",
    "version": 3
   },
   "file_extension": ".py",
   "mimetype": "text/x-python",
   "name": "python",
   "nbconvert_exporter": "python",
   "pygments_lexer": "ipython3",
   "version": "3.11.7"
  }
 },
 "nbformat": 4,
 "nbformat_minor": 2
}
