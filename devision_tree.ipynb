{
 "cells": [
  {
   "cell_type": "code",
   "execution_count": 2,
   "metadata": {},
   "outputs": [],
   "source": [
    "#Entropy of a partition\n",
    "from typing import List\n",
    "import math\n",
    "\n",
    "def entropy(class_probabilities: List[float]) -> float:\n",
    "    return sum(-p * math.log(p, 2)\n",
    "               for p in class_probabilities \n",
    "               if p > 0)\n",
    "\n",
    "from typing import Any\n",
    "from collections import Counter\n",
    "\n",
    "def class_probabilities(labels: List[Any]) -> List[float]:\n",
    "    total_count = len(labels)\n",
    "    return [count / total_count\n",
    "            for count in Counter(labels).values()]\n",
    "    \n",
    "def data_entropy(labels: List[Any]) -> float:\n",
    "    return entropy(class_probabilities(labels))\n",
    "\n",
    "def partition_entropy(subsets:List[List[Any]]) -> float:\n",
    "    total_count = sum(len(subset) for subset in subsets)\n",
    "    return sum(data_entropy(subset) * len(subset) / total_count\n",
    "               for subset in subsets)\n",
    "    \n",
    "    "
   ]
  },
  {
   "cell_type": "code",
   "execution_count": 3,
   "metadata": {},
   "outputs": [],
   "source": [
    "    \n",
    "# Create a Decision Tree\n",
    "from typing import NamedTuple, Optional\n",
    "\n",
    "class Candidate(NamedTuple):\n",
    "    level:str\n",
    "    lang:str\n",
    "    tweets: bool\n",
    "    phd: bool\n",
    "    did_well: Optional[bool] = None \n",
    "\n",
    "#                 level     lang    tweets  phd   did well\n",
    "inputs=[Candidate('Senior', 'Java', False, False, False),\n",
    "        Candidate('Senior', 'Java', False, True, False),\n",
    "        Candidate('Mid', 'Python', False, False, True),\n",
    "        Candidate('Junior', 'Python', False, False, True),\n",
    "        Candidate('Junior', 'R', True, False, True),\n",
    "        Candidate('Junior', 'R', True, True, False),\n",
    "        Candidate('Mid', 'R', True, True, True),\n",
    "        Candidate('Senior', 'Python', False, False, False),\n",
    "        Candidate('Senior', 'R', True, False, True),\n",
    "        Candidate('Junior', 'Python', True, False, True),\n",
    "        Candidate('Senior', 'Python', True, True, True),\n",
    "        Candidate('Mid', 'Python', False, True, True),\n",
    "        Candidate('Mid', 'Java', True, False, True),\n",
    "        Candidate('Junior', 'Python', False, True, False)\n",
    "        ]\n"
   ]
  },
  {
   "cell_type": "code",
   "execution_count": 4,
   "metadata": {},
   "outputs": [
    {
     "name": "stdout",
     "output_type": "stream",
     "text": [
      "level 0.6935361388961919\n",
      "lang 0.8601317128547441\n",
      "tweets 0.7884504573082896\n",
      "phd 0.8921589282623617\n"
     ]
    }
   ],
   "source": [
    "\n",
    "from typing import Dict, TypeVar\n",
    "from collections import defaultdict\n",
    "\n",
    "T= TypeVar('T')\n",
    "\n",
    "def partition_by(inputs: List[T], attribute: str) -> Dict[Any, List[T]]:\n",
    "    \"\"\"Partition the inputs into lists\"\"\"\n",
    "    partitions:Dict[Any, List[T]]=defaultdict(list)\n",
    "    for input in inputs:\n",
    "        key=getattr(input, attribute)#Get the value\n",
    "        partitions[key].append(input)\n",
    "    return partitions\n",
    "\n",
    "def partition_entropy_by(inputs: List[Any],\n",
    "                         attribute: str,\n",
    "                         label_attribute: str)->float:\n",
    "    \"\"\"Compute the corresponding entropy\"\"\"\n",
    "    partitions=partition_by(inputs, attribute)\n",
    "    \n",
    "    labels=[[getattr(input, label_attribute) for input in partition]\n",
    "            for partition in partitions.values()]\n",
    "    return partition_entropy(labels)\n",
    "\n",
    "for key in ['level','lang','tweets','phd']:\n",
    "    print(key,partition_entropy_by(inputs, key, 'did_well'))"
   ]
  },
  {
   "cell_type": "code",
   "execution_count": 5,
   "metadata": {},
   "outputs": [
    {
     "name": "stdout",
     "output_type": "stream",
     "text": [
      "lang 0.4\n",
      "tweets 0.0\n",
      "phd 0.9509775004326938\n"
     ]
    }
   ],
   "source": [
    "senior_inputs=[input for input in inputs if input.level=='Senior']\n",
    "for key in ['lang','tweets','phd']:\n",
    "    print(key, partition_entropy_by(senior_inputs, key, 'did_well'))"
   ]
  },
  {
   "cell_type": "code",
   "execution_count": 6,
   "metadata": {},
   "outputs": [],
   "source": [
    "#Put it all together\n",
    "from typing import NamedTuple,Union, Any\n",
    "class Leaf(NamedTuple):\n",
    "    value:Any\n",
    "\n",
    "class Split(NamedTuple):\n",
    "    attribute:str\n",
    "    subtrees:dict\n",
    "    default_value:Any=None\n",
    "\n",
    "DecisionTree=Union[Leaf, Split]"
   ]
  },
  {
   "cell_type": "code",
   "execution_count": 7,
   "metadata": {},
   "outputs": [],
   "source": [
    "def classify(tree:DecisionTree, input:Any) -> Any: #input example: Candidate('Senior', 'Java', False, False, False)\n",
    "    if isinstance(tree, Leaf):\n",
    "        return tree.value\n",
    "    subtree_key=getattr(input, tree.attribute)# get the value of the attribute\n",
    "    if subtree_key not in tree.subtrees:\n",
    "        return tree.default_value\n",
    "    subtree=tree.subtrees[subtree_key]\n",
    "    return classify(subtree, input) #recursion\n",
    "\n",
    "def build_tree_3d(inputs:List[Any],\n",
    "                  split_attributes:List[str],\n",
    "                  target_attribute:str)->DecisionTree:\n",
    "    \"\"\"\n",
    "    example :build_tree_3d([Candidate('Senior', 'Java', False, False, False),Candidate('Senior', 'Java', False, True, False)],\n",
    "                           ['level','lang','tweets','phd'],\n",
    "                           'did_well')\n",
    "    \"\"\"\n",
    "    \n",
    "    #Count target labels\n",
    "    label_counts=Counter(getattr(input, target_attribute)\n",
    "                         for input in inputs)#input here is a Candidate object\n",
    "    \"\"\"\n",
    "    Counter example: Counter({'Senior': 5, 'Mid': 4, 'Junior': 5})\n",
    "    \"\"\"\n",
    "    most_common_label=label_counts.most_common(1)[0][0]#Counter.most_common(n) example: [('Senior', 5)]\n",
    "    \n",
    "    #If there is only one label, return a leaf\n",
    "    if len(label_counts)==1:#example: {'Senior': 5}\n",
    "        return Leaf(most_common_label)\n",
    "    \n",
    "    #If no split attributes left, return a leaf\n",
    "    if not split_attributes:# example: []\n",
    "        return Leaf(most_common_label)\n",
    "    \n",
    "    #Otherwise split by the best attribute\n",
    "    def split_entropy(attribute:str)->float:\n",
    "        return partition_entropy_by(inputs, attribute, target_attribute)\n",
    "    \n",
    "    best_attribute=min(split_attributes, key=split_entropy)\n",
    "    partitions=partition_by(inputs, best_attribute)\n",
    "    \"\"\"\n",
    "    Partition example: {'Senior': [Candidate('Senior', 'Java', False, False, False),\n",
    "                          Candidate('Senior', 'Java', False, True, False)],\n",
    "                          'Mid': [Candidate('Mid', 'Python', False, False, True),\n",
    "                          Candidate('Mid', 'R', True, True, True)}\n",
    "    \"\"\"\n",
    "    new_attributes=[a for a in split_attributes if a!=best_attribute]\n",
    "    subtrees={attribute_value:build_tree_3d(subset,\n",
    "                                           new_attributes,\n",
    "                                           target_attribute)\n",
    "             for attribute_value, subset in partitions.items()}\n",
    "\n",
    "    return Split(best_attribute, subtrees, default_value=most_common_label)\n"
   ]
  },
  {
   "cell_type": "code",
   "execution_count": 8,
   "metadata": {},
   "outputs": [
    {
     "name": "stdout",
     "output_type": "stream",
     "text": [
      "True\n",
      "False\n"
     ]
    },
    {
     "data": {
      "text/plain": [
       "Split(attribute='level', subtrees={'Senior': Split(attribute='tweets', subtrees={False: Leaf(value=False), True: Leaf(value=True)}, default_value=False), 'Mid': Leaf(value=True), 'Junior': Split(attribute='phd', subtrees={False: Leaf(value=True), True: Leaf(value=False)}, default_value=True)}, default_value=True)"
      ]
     },
     "execution_count": 8,
     "metadata": {},
     "output_type": "execute_result"
    }
   ],
   "source": [
    "tree=build_tree_3d(inputs,\n",
    "                     ['level','lang','tweets','phd'],\n",
    "                     'did_well')\n",
    "print(classify(tree, Candidate('Junior', 'Java', True, False)))\n",
    "print(classify(tree, Candidate('Junior', 'Java', True, True)))\n",
    "tree"
   ]
  },
  {
   "cell_type": "code",
   "execution_count": 9,
   "metadata": {},
   "outputs": [
    {
     "data": {
      "text/plain": [
       "True"
      ]
     },
     "execution_count": 9,
     "metadata": {},
     "output_type": "execute_result"
    }
   ],
   "source": [
    "classify(tree,Candidate(\"Intern\",\"Java\",True,True))"
   ]
  }
 ],
 "metadata": {
  "kernelspec": {
   "display_name": "base",
   "language": "python",
   "name": "python3"
  },
  "language_info": {
   "codemirror_mode": {
    "name": "ipython",
    "version": 3
   },
   "file_extension": ".py",
   "mimetype": "text/x-python",
   "name": "python",
   "nbconvert_exporter": "python",
   "pygments_lexer": "ipython3",
   "version": "3.11.7"
  }
 },
 "nbformat": 4,
 "nbformat_minor": 2
}
